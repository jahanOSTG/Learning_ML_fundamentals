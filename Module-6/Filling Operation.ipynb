{
  "metadata": {
    "kernelspec": {
      "name": "python",
      "display_name": "Python (Pyodide)",
      "language": "python"
    },
    "language_info": {
      "codemirror_mode": {
        "name": "python",
        "version": 3
      },
      "file_extension": ".py",
      "mimetype": "text/x-python",
      "name": "python",
      "nbconvert_exporter": "python",
      "pygments_lexer": "ipython3",
      "version": "3.8"
    }
  },
  "nbformat_minor": 5,
  "nbformat": 4,
  "cells": [
    {
      "id": "3eeefab5-8405-4c1c-ae98-be4f36467447",
      "cell_type": "markdown",
      "source": "### Make the following Dataframe by using pandas. Write the functions to see the how many NaN values are in the entire Dataframe? Clean the NaN values using Forward fill, Backward fill, ‘0’ Fill",
      "metadata": {}
    },
    {
      "id": "b3349ad8-40a8-4413-8809-23e17bbebb67",
      "cell_type": "code",
      "source": "import pandas as pd",
      "metadata": {
        "trusted": true
      },
      "outputs": [],
      "execution_count": 29
    },
    {
      "id": "99ba7bc8-97ba-4c1b-8d70-23034355adaf",
      "cell_type": "code",
      "source": "import numpy as np",
      "metadata": {
        "trusted": true
      },
      "outputs": [],
      "execution_count": 30
    },
    {
      "id": "5b3b5fa7-d9c1-47d4-8263-fb3da68ef567",
      "cell_type": "code",
      "source": "data = {\n    'A': [21, np.nan, 22, 4, np.nan],\n    'B': [31, 32, 33, 34, 35],\n    'C': [np.nan, np.nan, np.nan, np.nan, np.nan],\n    'D': [46, 47, np.nan, 48, 49]\n}",
      "metadata": {
        "trusted": true
      },
      "outputs": [],
      "execution_count": 31
    },
    {
      "id": "6ab00732-77d5-4917-b675-664bfcb215cb",
      "cell_type": "code",
      "source": "df = pd.DataFrame(data)\nprint(df)",
      "metadata": {
        "trusted": true
      },
      "outputs": [
        {
          "name": "stdout",
          "output_type": "stream",
          "text": "      A   B   C     D\n0  21.0  31 NaN  46.0\n1   NaN  32 NaN  47.0\n2  22.0  33 NaN   NaN\n3   4.0  34 NaN  48.0\n4   NaN  35 NaN  49.0\n"
        }
      ],
      "execution_count": 32
    },
    {
      "id": "6828455d-64e6-4565-b7f4-7a70afc7e2df",
      "cell_type": "code",
      "source": "total_nan_values = df.isna().sum().sum()\n",
      "metadata": {
        "trusted": true
      },
      "outputs": [],
      "execution_count": 33
    },
    {
      "id": "0fd78f86-5917-40e2-9afe-362db81e1c33",
      "cell_type": "code",
      "source": "print(\"Total nan values: \",total_nan_values)",
      "metadata": {
        "trusted": true
      },
      "outputs": [
        {
          "name": "stdout",
          "output_type": "stream",
          "text": "Total nan values:  8\n"
        }
      ],
      "execution_count": 34
    },
    {
      "id": "71b48922-62c1-4e74-ad41-f1b2ee5728f9",
      "cell_type": "code",
      "source": "def forward_fill(df):\n    return df.fillna(method='ffill')\n",
      "metadata": {
        "trusted": true
      },
      "outputs": [],
      "execution_count": 35
    },
    {
      "id": "999ff076-b6aa-4be1-9482-ca0d04d1eccc",
      "cell_type": "code",
      "source": "print(\"\\nForward Fill:\")\nprint(forward_fill(df))",
      "metadata": {
        "trusted": true
      },
      "outputs": [
        {
          "name": "stdout",
          "output_type": "stream",
          "text": "\nForward Fill:\n"
        },
        {
          "name": "stderr",
          "output_type": "stream",
          "text": "<ipython-input-35-114e642c55d8>:2: FutureWarning: DataFrame.fillna with 'method' is deprecated and will raise in a future version. Use obj.ffill() or obj.bfill() instead.\n  return df.fillna(method='ffill')\n"
        },
        {
          "name": "stdout",
          "output_type": "stream",
          "text": "      A   B   C     D\n0  21.0  31 NaN  46.0\n1  21.0  32 NaN  47.0\n2  22.0  33 NaN  47.0\n3   4.0  34 NaN  48.0\n4   4.0  35 NaN  49.0\n"
        }
      ],
      "execution_count": 36
    },
    {
      "id": "07288c1f-9cc9-413e-96f0-171a34e19b06",
      "cell_type": "code",
      "source": " def backward_fill(df):\n    return df.fillna(method='bfill')",
      "metadata": {
        "trusted": true
      },
      "outputs": [],
      "execution_count": 37
    },
    {
      "id": "fc1b0016-252e-4136-b4fc-c2df275603ba",
      "cell_type": "code",
      "source": "print(\"\\nBackward Fill:\")\nprint(backward_fill(df))",
      "metadata": {
        "trusted": true
      },
      "outputs": [
        {
          "name": "stdout",
          "output_type": "stream",
          "text": "\nBackward Fill:\n"
        },
        {
          "name": "stderr",
          "output_type": "stream",
          "text": "<ipython-input-37-5ae760b35898>:2: FutureWarning: DataFrame.fillna with 'method' is deprecated and will raise in a future version. Use obj.ffill() or obj.bfill() instead.\n  return df.fillna(method='bfill')\n"
        },
        {
          "name": "stdout",
          "output_type": "stream",
          "text": "      A   B   C     D\n0  21.0  31 NaN  46.0\n1  22.0  32 NaN  47.0\n2  22.0  33 NaN  48.0\n3   4.0  34 NaN  48.0\n4   NaN  35 NaN  49.0\n"
        }
      ],
      "execution_count": 38
    },
    {
      "id": "a930e352-2544-4e6a-9de0-b9cf2afc8ac8",
      "cell_type": "code",
      "source": "def fill_zero(df):\n    return df.fillna(0)",
      "metadata": {
        "trusted": true
      },
      "outputs": [],
      "execution_count": 39
    },
    {
      "id": "9e9faec5-ea48-44f6-ad35-98809353e76a",
      "cell_type": "code",
      "source": "print(\"\\nFilling NaN with 0:\")\nprint(fill_zero(df))",
      "metadata": {
        "trusted": true
      },
      "outputs": [
        {
          "name": "stdout",
          "output_type": "stream",
          "text": "\nFilling NaN with 0:\n      A   B    C     D\n0  21.0  31  0.0  46.0\n1   0.0  32  0.0  47.0\n2  22.0  33  0.0   0.0\n3   4.0  34  0.0  48.0\n4   0.0  35  0.0  49.0\n"
        }
      ],
      "execution_count": 40
    },
    {
      "id": "8e7240ed-c963-4e28-a88b-0e21bfec348e",
      "cell_type": "code",
      "source": "",
      "metadata": {
        "trusted": true
      },
      "outputs": [],
      "execution_count": null
    }
  ]
}