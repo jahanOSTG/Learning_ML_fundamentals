{
  "metadata": {
    "kernelspec": {
      "name": "python",
      "display_name": "Python (Pyodide)",
      "language": "python"
    },
    "language_info": {
      "codemirror_mode": {
        "name": "python",
        "version": 3
      },
      "file_extension": ".py",
      "mimetype": "text/x-python",
      "name": "python",
      "nbconvert_exporter": "python",
      "pygments_lexer": "ipython3",
      "version": "3.8"
    }
  },
  "nbformat_minor": 5,
  "nbformat": 4,
  "cells": [
    {
      "id": "59ac5e5f-277a-4a48-86f3-5e0de6a98f41",
      "cell_type": "code",
      "source": "list1=[3,4,2]\nlist2=[2,4,2]\n\nprint(list1+list2)",
      "metadata": {
        "trusted": true
      },
      "outputs": [
        {
          "name": "stdout",
          "output_type": "stream",
          "text": "[3, 4, 2, 2, 4, 2]\n"
        }
      ],
      "execution_count": 2
    },
    {
      "id": "a8e47408-2497-4a22-96ac-71f8269b009b",
      "cell_type": "code",
      "source": "import numpy as np",
      "metadata": {
        "trusted": true
      },
      "outputs": [],
      "execution_count": 3
    },
    {
      "id": "04a2d24b-bc3c-4a66-8cf7-54ae63b0efb5",
      "cell_type": "code",
      "source": "arr1=np.array([1,2,3])\narr2=np.array([4,5,6])\nprint(arr1+arr2)",
      "metadata": {
        "trusted": true
      },
      "outputs": [
        {
          "name": "stdout",
          "output_type": "stream",
          "text": "[5 7 9]\n"
        }
      ],
      "execution_count": 4
    },
    {
      "id": "11823c07-4072-4784-bb62-a55a09474bf8",
      "cell_type": "code",
      "source": "menu=np.array(['cheese','bbq','veg','spicy'])\nprint(menu)",
      "metadata": {
        "trusted": true
      },
      "outputs": [
        {
          "name": "stdout",
          "output_type": "stream",
          "text": "['cheese' 'bbq' 'veg' 'spicy']\n"
        }
      ],
      "execution_count": 5
    },
    {
      "id": "030b1ba8-6ea8-4033-8c93-23d2e81a07c6",
      "cell_type": "code",
      "source": "prices=np.array([100,200,150,220])\nprice=prices*0.8\nprint(price)",
      "metadata": {
        "trusted": true
      },
      "outputs": [
        {
          "name": "stdout",
          "output_type": "stream",
          "text": "[ 80. 160. 120. 176.]\n"
        }
      ],
      "execution_count": 7
    },
    {
      "id": "c8eed574-eaab-469f-91b0-059b69c52094",
      "cell_type": "code",
      "source": "empty_table=np.zeros((2,3))\nprint(empty_table)",
      "metadata": {
        "trusted": true
      },
      "outputs": [
        {
          "name": "stdout",
          "output_type": "stream",
          "text": "[[0. 0. 0.]\n [0. 0. 0.]]\n"
        }
      ],
      "execution_count": 8
    },
    {
      "id": "9569cd4b-df4a-445b-9feb-630f4becd365",
      "cell_type": "code",
      "source": "full_table=np.ones((3,3))\nprint(full_table)",
      "metadata": {
        "trusted": true
      },
      "outputs": [
        {
          "name": "stdout",
          "output_type": "stream",
          "text": "[[1. 1. 1.]\n [1. 1. 1.]\n [1. 1. 1.]]\n"
        }
      ],
      "execution_count": 11
    },
    {
      "id": "b83cd016-6c45-4b13-949c-e12df95dba59",
      "cell_type": "code",
      "source": "bbq_boxes=np.full((2,3),'bbq')\nprint(bbq_boxes)",
      "metadata": {
        "trusted": true
      },
      "outputs": [
        {
          "name": "stdout",
          "output_type": "stream",
          "text": "[['bbq' 'bbq' 'bbq']\n ['bbq' 'bbq' 'bbq']]\n"
        }
      ],
      "execution_count": 13
    },
    {
      "id": "f61a1584-cd4f-48ef-82dc-20d0bad398dc",
      "cell_type": "code",
      "source": "kids_order=np.random.randint(1,8,(2,3))\nprint(kids_order)",
      "metadata": {
        "trusted": true
      },
      "outputs": [
        {
          "name": "stdout",
          "output_type": "stream",
          "text": "[[6 2 3]\n [5 1 4]]\n"
        }
      ],
      "execution_count": 16
    },
    {
      "id": "f0925116-2f79-4781-b981-442127efd9df",
      "cell_type": "code",
      "source": "surprise_toopings=np.random.rand(2,3)\nprint(surprise_toopings)",
      "metadata": {
        "trusted": true
      },
      "outputs": [
        {
          "name": "stdout",
          "output_type": "stream",
          "text": "[[0.26440119 0.99105288 0.34240561]\n [0.29580372 0.74924756 0.31968723]]\n"
        }
      ],
      "execution_count": 18
    },
    {
      "id": "fe6d72c4-5593-482b-828b-e214e0533b21",
      "cell_type": "code",
      "source": "signature_pizzas=np.identity(4)\nprint(signature_pizzas)",
      "metadata": {
        "trusted": true
      },
      "outputs": [
        {
          "name": "stdout",
          "output_type": "stream",
          "text": "[[1. 0. 0. 0.]\n [0. 1. 0. 0.]\n [0. 0. 1. 0.]\n [0. 0. 0. 1.]]\n"
        }
      ],
      "execution_count": 19
    },
    {
      "id": "aa8e1bc6-557f-4999-9ed8-133f5e7ddec7",
      "cell_type": "code",
      "source": "delivery_times=np.arange(0,70,15)\nprint(delivery_times)",
      "metadata": {
        "trusted": true
      },
      "outputs": [
        {
          "name": "stdout",
          "output_type": "stream",
          "text": "[ 0 15 30 45 60]\n"
        }
      ],
      "execution_count": 20
    },
    {
      "id": "82fae1bf-9009-40ab-ba9e-f2022b58d0b1",
      "cell_type": "code",
      "source": "cooking_shifts=np.linspace(0,70,7)\nprint(cooking_shifts)",
      "metadata": {
        "trusted": true
      },
      "outputs": [
        {
          "name": "stdout",
          "output_type": "stream",
          "text": "[ 0.         11.66666667 23.33333333 35.         46.66666667 58.33333333\n 70.        ]\n"
        }
      ],
      "execution_count": 22
    },
    {
      "id": "fd0a72c7-9ac7-4539-847f-b7c906c0a05f",
      "cell_type": "code",
      "source": "orders=np.array(['chesse','veg','spicy','bbq'])\nprint(orders[2])",
      "metadata": {
        "trusted": true
      },
      "outputs": [
        {
          "name": "stdout",
          "output_type": "stream",
          "text": "spicy\n"
        }
      ],
      "execution_count": 23
    },
    {
      "id": "0a482020-180e-468b-b42f-e6fa0d24e9a7",
      "cell_type": "code",
      "source": "print(orders[1:3])",
      "metadata": {
        "trusted": true
      },
      "outputs": [
        {
          "name": "stdout",
          "output_type": "stream",
          "text": "['veg' 'spicy']\n"
        }
      ],
      "execution_count": 26
    },
    {
      "id": "0912282f-576e-498f-8716-0397c8ede4bd",
      "cell_type": "code",
      "source": "orders=np.array([[\n    'cheese','veg'],\n    ['spicy','bbq']])\nprint(orders)",
      "metadata": {
        "trusted": true
      },
      "outputs": [
        {
          "name": "stdout",
          "output_type": "stream",
          "text": "[['cheese' 'veg']\n ['spicy' 'bbq']]\n"
        }
      ],
      "execution_count": 31
    },
    {
      "id": "a8850753-2b14-4258-82c8-de36fb8e4194",
      "cell_type": "code",
      "source": "print(orders[1,0])",
      "metadata": {
        "trusted": true
      },
      "outputs": [
        {
          "name": "stdout",
          "output_type": "stream",
          "text": "spicy\n"
        }
      ],
      "execution_count": 32
    },
    {
      "id": "4a44a804-ec56-43cb-a757-cdf29ff3b3bd",
      "cell_type": "code",
      "source": "print(orders[:,0])\n",
      "metadata": {
        "trusted": true
      },
      "outputs": [
        {
          "name": "stdout",
          "output_type": "stream",
          "text": "['cheese' 'spicy']\n"
        }
      ],
      "execution_count": 35
    },
    {
      "id": "5d2430c4-6bbd-471c-92df-b3c10c50294c",
      "cell_type": "code",
      "source": "print(orders[:,1])",
      "metadata": {
        "trusted": true
      },
      "outputs": [
        {
          "name": "stdout",
          "output_type": "stream",
          "text": "['veg' 'bbq']\n"
        }
      ],
      "execution_count": 36
    },
    {
      "id": "23ca4f81-1f1b-4b05-b0bb-a7b1983964a2",
      "cell_type": "code",
      "source": "orders=np.array([[\n    'cheese','veg','veg'],\n    ['spicy','bbq','spicy']])\nprint(orders)",
      "metadata": {
        "trusted": true
      },
      "outputs": [
        {
          "name": "stdout",
          "output_type": "stream",
          "text": "[['cheese' 'veg' 'veg']\n ['spicy' 'bbq' 'spicy']]\n"
        }
      ],
      "execution_count": 38
    },
    {
      "id": "b9d733a3-b99b-45e8-974a-bd9f527c02c6",
      "cell_type": "code",
      "source": "print(orders[0,1:3])",
      "metadata": {
        "trusted": true
      },
      "outputs": [
        {
          "name": "stdout",
          "output_type": "stream",
          "text": "['veg' 'veg']\n"
        }
      ],
      "execution_count": 39
    },
    {
      "id": "390c15af-5294-4526-93b3-dc59dbee1ade",
      "cell_type": "code",
      "source": "print(orders[:,1:3])",
      "metadata": {
        "trusted": true
      },
      "outputs": [
        {
          "name": "stdout",
          "output_type": "stream",
          "text": "[['veg' 'veg']\n ['bbq' 'spicy']]\n"
        }
      ],
      "execution_count": 40
    },
    {
      "id": "ad9a1d53-5db0-4d6b-9603-1005e7dddf19",
      "cell_type": "code",
      "source": "sales=np.array([2000,1500,8000,3500])\nprint(\"Max sales index: \",np.argmax(sales))\n",
      "metadata": {
        "trusted": true
      },
      "outputs": [
        {
          "name": "stdout",
          "output_type": "stream",
          "text": "Max sales index:  2\n"
        }
      ],
      "execution_count": 41
    },
    {
      "id": "314d5993-2b10-424c-8dff-733ec540743d",
      "cell_type": "code",
      "source": "print(\"Max sales: \",np.max(sales))",
      "metadata": {
        "trusted": true
      },
      "outputs": [
        {
          "name": "stdout",
          "output_type": "stream",
          "text": "Max sales:  8000\n"
        }
      ],
      "execution_count": 42
    },
    {
      "id": "4ddf999c-918b-4ae5-b48b-1b33610b2310",
      "cell_type": "code",
      "source": "print(\"Min sales index: \",np.argmin(sales))",
      "metadata": {
        "trusted": true
      },
      "outputs": [
        {
          "name": "stdout",
          "output_type": "stream",
          "text": "Min sales index:  1\n"
        }
      ],
      "execution_count": 44
    },
    {
      "id": "64c48932-40f7-4207-bc1d-e20087b607b5",
      "cell_type": "code",
      "source": "print(\"Min sales: \",np.min(sales))",
      "metadata": {
        "trusted": true
      },
      "outputs": [
        {
          "name": "stdout",
          "output_type": "stream",
          "text": "Min sales:  1500\n"
        }
      ],
      "execution_count": 46
    },
    {
      "id": "304939c0-cca5-443c-a5f7-dc5d2870ba23",
      "cell_type": "code",
      "source": "",
      "metadata": {
        "trusted": true
      },
      "outputs": [],
      "execution_count": null
    }
  ]
}